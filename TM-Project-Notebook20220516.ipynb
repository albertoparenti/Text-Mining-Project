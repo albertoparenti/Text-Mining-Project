{
 "cells": [
  {
   "cell_type": "markdown",
   "id": "54bf1c31",
   "metadata": {},
   "source": [
    "## Text Mining Project - Kevin, Yuri, Leo, Alberto"
   ]
  },
  {
   "cell_type": "code",
   "execution_count": 214,
   "id": "7ba526de",
   "metadata": {},
   "outputs": [],
   "source": [
    "import pandas as pd\n",
    "import numpy as np\n",
    "\n",
    "train = pd.read_csv('training_set.txt', sep = '\\t')\n",
    "dev = pd.read_csv('dev_set.txt', sep = '\\t')\n"
   ]
  },
  {
   "cell_type": "code",
   "execution_count": 215,
   "id": "eb68be81",
   "metadata": {},
   "outputs": [
    {
     "name": "stdout",
     "output_type": "stream",
     "text": [
      "training size:  (14000, 2)\n",
      "validation size:  (1000, 2)\n"
     ]
    }
   ],
   "source": [
    "print('training size: ', train.shape)\n",
    "print('validation size: ', dev.shape)"
   ]
  },
  {
   "cell_type": "code",
   "execution_count": 216,
   "id": "b6ebe4f9",
   "metadata": {},
   "outputs": [
    {
     "data": {
      "text/html": [
       "<div>\n",
       "<style scoped>\n",
       "    .dataframe tbody tr th:only-of-type {\n",
       "        vertical-align: middle;\n",
       "    }\n",
       "\n",
       "    .dataframe tbody tr th {\n",
       "        vertical-align: top;\n",
       "    }\n",
       "\n",
       "    .dataframe thead th {\n",
       "        text-align: right;\n",
       "    }\n",
       "</style>\n",
       "<table border=\"1\" class=\"dataframe\">\n",
       "  <thead>\n",
       "    <tr style=\"text-align: right;\">\n",
       "      <th></th>\n",
       "      <th>sentence</th>\n",
       "      <th>emotion</th>\n",
       "    </tr>\n",
       "  </thead>\n",
       "  <tbody>\n",
       "    <tr>\n",
       "      <th>0</th>\n",
       "      <td>I'm too old to be traded in .</td>\n",
       "      <td>6</td>\n",
       "    </tr>\n",
       "    <tr>\n",
       "      <th>1</th>\n",
       "      <td>Mother said you could always tell a lady by he...</td>\n",
       "      <td>8</td>\n",
       "    </tr>\n",
       "    <tr>\n",
       "      <th>2</th>\n",
       "      <td>I always said I'd leave off when the time came .</td>\n",
       "      <td>6</td>\n",
       "    </tr>\n",
       "    <tr>\n",
       "      <th>3</th>\n",
       "      <td>He'll be safe with me .</td>\n",
       "      <td>2</td>\n",
       "    </tr>\n",
       "    <tr>\n",
       "      <th>4</th>\n",
       "      <td>Lay off .</td>\n",
       "      <td>1</td>\n",
       "    </tr>\n",
       "    <tr>\n",
       "      <th>5</th>\n",
       "      <td>You tell him to take care of you .</td>\n",
       "      <td>8</td>\n",
       "    </tr>\n",
       "    <tr>\n",
       "      <th>6</th>\n",
       "      <td>I hope so .</td>\n",
       "      <td>4</td>\n",
       "    </tr>\n",
       "    <tr>\n",
       "      <th>7</th>\n",
       "      <td>Why do you want to shut me out in the cold lik...</td>\n",
       "      <td>6</td>\n",
       "    </tr>\n",
       "    <tr>\n",
       "      <th>8</th>\n",
       "      <td>You taught me a lesson , man .</td>\n",
       "      <td>8</td>\n",
       "    </tr>\n",
       "    <tr>\n",
       "      <th>9</th>\n",
       "      <td>I'll do everything I can to make a success of ...</td>\n",
       "      <td>2</td>\n",
       "    </tr>\n",
       "    <tr>\n",
       "      <th>10</th>\n",
       "      <td>But it was worth it .</td>\n",
       "      <td>5</td>\n",
       "    </tr>\n",
       "    <tr>\n",
       "      <th>11</th>\n",
       "      <td>I hope I never wake up .</td>\n",
       "      <td>6</td>\n",
       "    </tr>\n",
       "    <tr>\n",
       "      <th>12</th>\n",
       "      <td>Alright , here's how it works ....</td>\n",
       "      <td>2</td>\n",
       "    </tr>\n",
       "    <tr>\n",
       "      <th>13</th>\n",
       "      <td>Flo , being a parent is about sharing .</td>\n",
       "      <td>8</td>\n",
       "    </tr>\n",
       "    <tr>\n",
       "      <th>14</th>\n",
       "      <td>He looks like a drunk .</td>\n",
       "      <td>3</td>\n",
       "    </tr>\n",
       "    <tr>\n",
       "      <th>15</th>\n",
       "      <td>... Primitive</td>\n",
       "      <td>3</td>\n",
       "    </tr>\n",
       "    <tr>\n",
       "      <th>16</th>\n",
       "      <td>Hello . - Never , ever pick up the phone .</td>\n",
       "      <td>1</td>\n",
       "    </tr>\n",
       "    <tr>\n",
       "      <th>17</th>\n",
       "      <td>[PERSON] , could I have a word with you ?</td>\n",
       "      <td>4</td>\n",
       "    </tr>\n",
       "    <tr>\n",
       "      <th>18</th>\n",
       "      <td>I'm not resigning my senior partnership the da...</td>\n",
       "      <td>2</td>\n",
       "    </tr>\n",
       "    <tr>\n",
       "      <th>19</th>\n",
       "      <td>It's OK .</td>\n",
       "      <td>8</td>\n",
       "    </tr>\n",
       "  </tbody>\n",
       "</table>\n",
       "</div>"
      ],
      "text/plain": [
       "                                             sentence  emotion\n",
       "0                       I'm too old to be traded in .        6\n",
       "1   Mother said you could always tell a lady by he...        8\n",
       "2    I always said I'd leave off when the time came .        6\n",
       "3                             He'll be safe with me .        2\n",
       "4                                           Lay off .        1\n",
       "5                  You tell him to take care of you .        8\n",
       "6                                         I hope so .        4\n",
       "7   Why do you want to shut me out in the cold lik...        6\n",
       "8                      You taught me a lesson , man .        8\n",
       "9   I'll do everything I can to make a success of ...        2\n",
       "10                              But it was worth it .        5\n",
       "11                           I hope I never wake up .        6\n",
       "12                 Alright , here's how it works ....        2\n",
       "13            Flo , being a parent is about sharing .        8\n",
       "14                            He looks like a drunk .        3\n",
       "15                                      ... Primitive        3\n",
       "16         Hello . - Never , ever pick up the phone .        1\n",
       "17          [PERSON] , could I have a word with you ?        4\n",
       "18  I'm not resigning my senior partnership the da...        2\n",
       "19                                          It's OK .        8"
      ]
     },
     "execution_count": 216,
     "metadata": {},
     "output_type": "execute_result"
    }
   ],
   "source": [
    "train.head(20)"
   ]
  },
  {
   "cell_type": "code",
   "execution_count": 217,
   "id": "4c0fa82a",
   "metadata": {},
   "outputs": [],
   "source": [
    "emotion_dict = {1:'Anger', 2:'Anticipation', 3:'Disgust', 4:'Fear', 5:'Joy', 6:'Sadness', 7:'Surprise', 8:'Trust'}"
   ]
  },
  {
   "cell_type": "markdown",
   "id": "482c3262",
   "metadata": {},
   "source": [
    "### Preprocess"
   ]
  },
  {
   "cell_type": "code",
   "execution_count": 218,
   "id": "6b839fad",
   "metadata": {},
   "outputs": [
    {
     "name": "stderr",
     "output_type": "stream",
     "text": [
      "[nltk_data] Downloading package wordnet to\n",
      "[nltk_data]     C:\\Users\\Kevin\\AppData\\Roaming\\nltk_data...\n",
      "[nltk_data]   Package wordnet is already up-to-date!\n",
      "[nltk_data] Downloading package stopwords to\n",
      "[nltk_data]     C:\\Users\\Kevin\\AppData\\Roaming\\nltk_data...\n",
      "[nltk_data]   Package stopwords is already up-to-date!\n"
     ]
    },
    {
     "data": {
      "text/plain": [
       "True"
      ]
     },
     "execution_count": 218,
     "metadata": {},
     "output_type": "execute_result"
    }
   ],
   "source": [
    "import re\n",
    "import nltk\n",
    "from nltk.corpus import stopwords\n",
    "from nltk.stem.wordnet import WordNetLemmatizer\n",
    "from nltk.stem import PorterStemmer\n",
    "from bs4 import BeautifulSoup\n",
    "from tqdm import tqdm_notebook as tqdm\n",
    "\n",
    "nltk.download('wordnet')\n",
    "nltk.download('stopwords')\n"
   ]
  },
  {
   "cell_type": "code",
   "execution_count": 219,
   "id": "f7cbe6c4",
   "metadata": {},
   "outputs": [],
   "source": [
    "def preprocessing(dataframe):\n",
    "    \n",
    "    processed_corpus = []\n",
    "    stop_words = set(stopwords.words(\"english\"))\n",
    "    \n",
    "    for i in tqdm(range(len(dataframe))):\n",
    "        text = dataframe['sentence'].iloc[i]\n",
    "        \n",
    "        # Remove tags\n",
    "        text = BeautifulSoup(text).get_text()\n",
    "        \n",
    "        # Remove punctuations\n",
    "        text = re.sub('[^a-zA-Z]', ' ', text)\n",
    "\n",
    "        # Convert to lowercase\n",
    "        text = text.lower()        \n",
    "        \n",
    "        # Convert to list from string\n",
    "        text = text.split()\n",
    "\n",
    "        # Lemmatization\n",
    "        lem = WordNetLemmatizer()\n",
    "        text = [lem.lemmatize(word) for word in text if not word in stop_words] \n",
    "        \n",
    "        # Stemming\n",
    "        stem = PorterStemmer()\n",
    "        text = [stem.stem(word) for word in text if not word in stop_words]\n",
    "        text = ' '.join(text)\n",
    "        \n",
    "        processed_corpus.append(text)\n",
    "        \n",
    "    return processed_corpus"
   ]
  },
  {
   "cell_type": "code",
   "execution_count": 220,
   "id": "ccc4bae7",
   "metadata": {},
   "outputs": [
    {
     "name": "stderr",
     "output_type": "stream",
     "text": [
      "C:\\Users\\Kevin\\Anaconda3\\lib\\site-packages\\ipykernel_launcher.py:6: TqdmDeprecationWarning: This function will be removed in tqdm==5.0.0\n",
      "Please use `tqdm.notebook.tqdm` instead of `tqdm.tqdm_notebook`\n",
      "  \n"
     ]
    },
    {
     "data": {
      "application/vnd.jupyter.widget-view+json": {
       "model_id": "adac700991304ba29aaab2a80fc8d7a6",
       "version_major": 2,
       "version_minor": 0
      },
      "text/plain": [
       "  0%|          | 0/14000 [00:00<?, ?it/s]"
      ]
     },
     "metadata": {},
     "output_type": "display_data"
    },
    {
     "data": {
      "application/vnd.jupyter.widget-view+json": {
       "model_id": "377c1b96a7e44ecd95606ab8cf4d1223",
       "version_major": 2,
       "version_minor": 0
      },
      "text/plain": [
       "  0%|          | 0/1000 [00:00<?, ?it/s]"
      ]
     },
     "metadata": {},
     "output_type": "display_data"
    }
   ],
   "source": [
    "proctrain = preprocessing(train)\n",
    "procdev = preprocessing(dev)"
   ]
  },
  {
   "cell_type": "code",
   "execution_count": 221,
   "id": "f09e3cf1",
   "metadata": {},
   "outputs": [],
   "source": [
    "proctrain = pd.DataFrame(zip(proctrain, train.emotion), columns = train.columns, index = train.index)\n",
    "procdev = pd.DataFrame(zip(procdev, dev.emotion), columns = dev.columns, index = dev.index)"
   ]
  },
  {
   "cell_type": "code",
   "execution_count": 222,
   "id": "19a0bda8",
   "metadata": {},
   "outputs": [],
   "source": [
    "df = proctrain.append(procdev)\n",
    "df.reset_index(drop = False, inplace = True)\n",
    "df.rename(columns = {'index':'old_index'}, inplace = True)\n",
    "df = df.sample(frac = 1)"
   ]
  },
  {
   "cell_type": "code",
   "execution_count": 223,
   "id": "b949088c",
   "metadata": {},
   "outputs": [
    {
     "data": {
      "text/html": [
       "<div>\n",
       "<style scoped>\n",
       "    .dataframe tbody tr th:only-of-type {\n",
       "        vertical-align: middle;\n",
       "    }\n",
       "\n",
       "    .dataframe tbody tr th {\n",
       "        vertical-align: top;\n",
       "    }\n",
       "\n",
       "    .dataframe thead th {\n",
       "        text-align: right;\n",
       "    }\n",
       "</style>\n",
       "<table border=\"1\" class=\"dataframe\">\n",
       "  <thead>\n",
       "    <tr style=\"text-align: right;\">\n",
       "      <th></th>\n",
       "      <th>old_index</th>\n",
       "      <th>sentence</th>\n",
       "      <th>emotion</th>\n",
       "    </tr>\n",
       "  </thead>\n",
       "  <tbody>\n",
       "    <tr>\n",
       "      <th>11549</th>\n",
       "      <td>11549</td>\n",
       "      <td>go</td>\n",
       "      <td>4</td>\n",
       "    </tr>\n",
       "    <tr>\n",
       "      <th>14466</th>\n",
       "      <td>466</td>\n",
       "      <td>sure</td>\n",
       "      <td>4</td>\n",
       "    </tr>\n",
       "    <tr>\n",
       "      <th>7238</th>\n",
       "      <td>7238</td>\n",
       "      <td>person</td>\n",
       "      <td>6</td>\n",
       "    </tr>\n",
       "    <tr>\n",
       "      <th>12868</th>\n",
       "      <td>12868</td>\n",
       "      <td>let cop get away</td>\n",
       "      <td>1</td>\n",
       "    </tr>\n",
       "    <tr>\n",
       "      <th>8564</th>\n",
       "      <td>8564</td>\n",
       "      <td>someth wrong</td>\n",
       "      <td>4</td>\n",
       "    </tr>\n",
       "  </tbody>\n",
       "</table>\n",
       "</div>"
      ],
      "text/plain": [
       "       old_index          sentence  emotion\n",
       "11549      11549                go        4\n",
       "14466        466              sure        4\n",
       "7238        7238            person        6\n",
       "12868      12868  let cop get away        1\n",
       "8564        8564      someth wrong        4"
      ]
     },
     "execution_count": 223,
     "metadata": {},
     "output_type": "execute_result"
    }
   ],
   "source": [
    "df.tail()"
   ]
  },
  {
   "cell_type": "code",
   "execution_count": 224,
   "id": "345381da",
   "metadata": {},
   "outputs": [],
   "source": [
    "from sklearn.model_selection import train_test_split\n",
    "\n",
    "new_train, new_dev = train_test_split(df, test_size = 0.1, random_state = 2022)"
   ]
  },
  {
   "cell_type": "code",
   "execution_count": 225,
   "id": "ed79f7fe",
   "metadata": {},
   "outputs": [
    {
     "data": {
      "text/html": [
       "<div>\n",
       "<style scoped>\n",
       "    .dataframe tbody tr th:only-of-type {\n",
       "        vertical-align: middle;\n",
       "    }\n",
       "\n",
       "    .dataframe tbody tr th {\n",
       "        vertical-align: top;\n",
       "    }\n",
       "\n",
       "    .dataframe thead th {\n",
       "        text-align: right;\n",
       "    }\n",
       "</style>\n",
       "<table border=\"1\" class=\"dataframe\">\n",
       "  <thead>\n",
       "    <tr style=\"text-align: right;\">\n",
       "      <th></th>\n",
       "      <th>old_index</th>\n",
       "      <th>sentence</th>\n",
       "      <th>emotion</th>\n",
       "    </tr>\n",
       "  </thead>\n",
       "  <tbody>\n",
       "    <tr>\n",
       "      <th>3125</th>\n",
       "      <td>3125</td>\n",
       "      <td>let anybodi</td>\n",
       "      <td>4</td>\n",
       "    </tr>\n",
       "    <tr>\n",
       "      <th>938</th>\n",
       "      <td>938</td>\n",
       "      <td>get</td>\n",
       "      <td>1</td>\n",
       "    </tr>\n",
       "    <tr>\n",
       "      <th>7248</th>\n",
       "      <td>7248</td>\n",
       "      <td>well tell tri call back know</td>\n",
       "      <td>1</td>\n",
       "    </tr>\n",
       "    <tr>\n",
       "      <th>3779</th>\n",
       "      <td>3779</td>\n",
       "      <td>tell somethin</td>\n",
       "      <td>1</td>\n",
       "    </tr>\n",
       "    <tr>\n",
       "      <th>12461</th>\n",
       "      <td>12461</td>\n",
       "      <td>simpl help knock three four day</td>\n",
       "      <td>2</td>\n",
       "    </tr>\n",
       "  </tbody>\n",
       "</table>\n",
       "</div>"
      ],
      "text/plain": [
       "       old_index                         sentence  emotion\n",
       "3125        3125                      let anybodi        4\n",
       "938          938                              get        1\n",
       "7248        7248     well tell tri call back know        1\n",
       "3779        3779                    tell somethin        1\n",
       "12461      12461  simpl help knock three four day        2"
      ]
     },
     "execution_count": 225,
     "metadata": {},
     "output_type": "execute_result"
    }
   ],
   "source": [
    "new_train.head()"
   ]
  },
  {
   "cell_type": "code",
   "execution_count": 226,
   "id": "9bfe5aae",
   "metadata": {},
   "outputs": [
    {
     "name": "stderr",
     "output_type": "stream",
     "text": [
      "C:\\Users\\Kevin\\Anaconda3\\lib\\site-packages\\pandas\\core\\indexing.py:1732: SettingWithCopyWarning: \n",
      "A value is trying to be set on a copy of a slice from a DataFrame\n",
      "\n",
      "See the caveats in the documentation: https://pandas.pydata.org/pandas-docs/stable/user_guide/indexing.html#returning-a-view-versus-a-copy\n",
      "  self._setitem_single_block(indexer, value, name)\n"
     ]
    }
   ],
   "source": [
    "for i in range(0,len(new_train.sentence)): \n",
    "    new_train.sentence.iloc[i] = new_train.sentence.iloc[i].split(' ')\n",
    "\n",
    "for j in range(0, len(new_dev.sentence)):\n",
    "    new_dev.sentence.iloc[j] = new_dev.sentence.iloc[j].split(' ')\n"
   ]
  },
  {
   "cell_type": "code",
   "execution_count": 227,
   "id": "598c3867",
   "metadata": {},
   "outputs": [],
   "source": [
    "train_bag = new_train.explode('sentence')\n",
    "dev_bag = new_dev.explode('sentence')"
   ]
  },
  {
   "cell_type": "code",
   "execution_count": 228,
   "id": "def3830c",
   "metadata": {},
   "outputs": [
    {
     "name": "stderr",
     "output_type": "stream",
     "text": [
      "C:\\Users\\Kevin\\Anaconda3\\lib\\site-packages\\pandas\\core\\indexes\\base.py:4616: FutureWarning: Using a non-tuple sequence for multidimensional indexing is deprecated; use `arr[tuple(seq)]` instead of `arr[seq]`. In the future this will be interpreted as an array index, `arr[np.array(seq)]`, which will result either in an error or a different result.\n",
      "  result = getitem(key)\n"
     ]
    }
   ],
   "source": [
    "train_bag.drop(train_bag.index[list(np.where(train_bag.sentence == ''))], inplace = True)\n",
    "dev_bag.drop(dev_bag.index[list(np.where(dev_bag.sentence == ''))], inplace = True)"
   ]
  },
  {
   "cell_type": "code",
   "execution_count": 229,
   "id": "b1329e37",
   "metadata": {},
   "outputs": [],
   "source": [
    "train_bag.reset_index(drop = True, inplace = True)\n",
    "dev_bag.reset_index(drop = True, inplace = True)"
   ]
  },
  {
   "cell_type": "code",
   "execution_count": 230,
   "id": "d9c7d871",
   "metadata": {},
   "outputs": [
    {
     "data": {
      "text/html": [
       "<div>\n",
       "<style scoped>\n",
       "    .dataframe tbody tr th:only-of-type {\n",
       "        vertical-align: middle;\n",
       "    }\n",
       "\n",
       "    .dataframe tbody tr th {\n",
       "        vertical-align: top;\n",
       "    }\n",
       "\n",
       "    .dataframe thead th {\n",
       "        text-align: right;\n",
       "    }\n",
       "</style>\n",
       "<table border=\"1\" class=\"dataframe\">\n",
       "  <thead>\n",
       "    <tr style=\"text-align: right;\">\n",
       "      <th></th>\n",
       "      <th>old_index</th>\n",
       "      <th>sentence</th>\n",
       "      <th>emotion</th>\n",
       "    </tr>\n",
       "  </thead>\n",
       "  <tbody>\n",
       "    <tr>\n",
       "      <th>0</th>\n",
       "      <td>3125</td>\n",
       "      <td>let</td>\n",
       "      <td>4</td>\n",
       "    </tr>\n",
       "    <tr>\n",
       "      <th>1</th>\n",
       "      <td>3125</td>\n",
       "      <td>anybodi</td>\n",
       "      <td>4</td>\n",
       "    </tr>\n",
       "    <tr>\n",
       "      <th>2</th>\n",
       "      <td>938</td>\n",
       "      <td>get</td>\n",
       "      <td>1</td>\n",
       "    </tr>\n",
       "    <tr>\n",
       "      <th>3</th>\n",
       "      <td>7248</td>\n",
       "      <td>well</td>\n",
       "      <td>1</td>\n",
       "    </tr>\n",
       "    <tr>\n",
       "      <th>4</th>\n",
       "      <td>7248</td>\n",
       "      <td>tell</td>\n",
       "      <td>1</td>\n",
       "    </tr>\n",
       "  </tbody>\n",
       "</table>\n",
       "</div>"
      ],
      "text/plain": [
       "   old_index sentence  emotion\n",
       "0       3125      let        4\n",
       "1       3125  anybodi        4\n",
       "2        938      get        1\n",
       "3       7248     well        1\n",
       "4       7248     tell        1"
      ]
     },
     "execution_count": 230,
     "metadata": {},
     "output_type": "execute_result"
    }
   ],
   "source": [
    "train_bag.head()"
   ]
  },
  {
   "cell_type": "code",
   "execution_count": 231,
   "id": "2afd2936",
   "metadata": {},
   "outputs": [
    {
     "data": {
      "text/html": [
       "<div>\n",
       "<style scoped>\n",
       "    .dataframe tbody tr th:only-of-type {\n",
       "        vertical-align: middle;\n",
       "    }\n",
       "\n",
       "    .dataframe tbody tr th {\n",
       "        vertical-align: top;\n",
       "    }\n",
       "\n",
       "    .dataframe thead th {\n",
       "        text-align: right;\n",
       "    }\n",
       "</style>\n",
       "<table border=\"1\" class=\"dataframe\">\n",
       "  <thead>\n",
       "    <tr style=\"text-align: right;\">\n",
       "      <th></th>\n",
       "      <th>old_index</th>\n",
       "      <th>sentence</th>\n",
       "      <th>emotion</th>\n",
       "    </tr>\n",
       "  </thead>\n",
       "  <tbody>\n",
       "    <tr>\n",
       "      <th>5122</th>\n",
       "      <td>5589</td>\n",
       "      <td>could</td>\n",
       "      <td>8</td>\n",
       "    </tr>\n",
       "    <tr>\n",
       "      <th>5123</th>\n",
       "      <td>5589</td>\n",
       "      <td>get</td>\n",
       "      <td>8</td>\n",
       "    </tr>\n",
       "    <tr>\n",
       "      <th>5124</th>\n",
       "      <td>5589</td>\n",
       "      <td>money</td>\n",
       "      <td>8</td>\n",
       "    </tr>\n",
       "    <tr>\n",
       "      <th>5125</th>\n",
       "      <td>5589</td>\n",
       "      <td>wait</td>\n",
       "      <td>8</td>\n",
       "    </tr>\n",
       "    <tr>\n",
       "      <th>5126</th>\n",
       "      <td>5589</td>\n",
       "      <td>midnight</td>\n",
       "      <td>8</td>\n",
       "    </tr>\n",
       "  </tbody>\n",
       "</table>\n",
       "</div>"
      ],
      "text/plain": [
       "      old_index  sentence  emotion\n",
       "5122       5589     could        8\n",
       "5123       5589       get        8\n",
       "5124       5589     money        8\n",
       "5125       5589      wait        8\n",
       "5126       5589  midnight        8"
      ]
     },
     "execution_count": 231,
     "metadata": {},
     "output_type": "execute_result"
    }
   ],
   "source": [
    "dev_bag.tail()"
   ]
  },
  {
   "cell_type": "code",
   "execution_count": 232,
   "id": "e8e78a7e",
   "metadata": {},
   "outputs": [
    {
     "data": {
      "text/plain": [
       "{1: 'Anger',\n",
       " 2: 'Anticipation',\n",
       " 3: 'Disgust',\n",
       " 4: 'Fear',\n",
       " 5: 'Joy',\n",
       " 6: 'Sadness',\n",
       " 7: 'Surprise',\n",
       " 8: 'Trust'}"
      ]
     },
     "execution_count": 232,
     "metadata": {},
     "output_type": "execute_result"
    }
   ],
   "source": [
    "emotion_dict"
   ]
  },
  {
   "cell_type": "markdown",
   "id": "c2aed5d9",
   "metadata": {},
   "source": [
    "### Encoding"
   ]
  },
  {
   "cell_type": "code",
   "execution_count": 233,
   "id": "6eb380dc",
   "metadata": {},
   "outputs": [],
   "source": [
    "from sklearn import preprocessing\n",
    "def encoder(input_frame):\n",
    "    code = pd.Series([0]*len(input_frame.sentence), index = input_frame.index)\n",
    "    for i in range(0,len(input_frame)):\n",
    "        word_len = len(input_frame.iloc[i])\n",
    "        for j in range(0,len(input_frame.sentence.iloc[i])):\n",
    "            temp = []\n",
    "            temp.append((ord(input_frame.sentence.iloc[i][j])-97)*(36**(1-word_len))) # base 36 encoding\n",
    "        \n",
    "        code.iloc[i] = str(temp)\n",
    "    \n",
    "    input_frame['code'] = code.values\n",
    "    input_frame['code'] = input_frame['code'].apply(lambda x: float(x.replace('[','').replace(']','')))\n",
    "    \n",
    "#     for k in range(0, len(input_frame.code)): \n",
    "#         input_frame['code'].iloc[k] = input_frame['code'].iloc[k]/input_frame['code'].max() # normalize them to the max, not\n",
    "# typing this out correctly yet\n",
    "                   \n",
    "    return input_frame"
   ]
  },
  {
   "cell_type": "code",
   "execution_count": 234,
   "id": "6882cec7",
   "metadata": {},
   "outputs": [],
   "source": [
    "train_bag = encoder(train_bag)\n",
    "dev_bag = encoder(dev_bag)"
   ]
  },
  {
   "cell_type": "code",
   "execution_count": 235,
   "id": "805c6850",
   "metadata": {},
   "outputs": [
    {
     "data": {
      "text/html": [
       "<div>\n",
       "<style scoped>\n",
       "    .dataframe tbody tr th:only-of-type {\n",
       "        vertical-align: middle;\n",
       "    }\n",
       "\n",
       "    .dataframe tbody tr th {\n",
       "        vertical-align: top;\n",
       "    }\n",
       "\n",
       "    .dataframe thead th {\n",
       "        text-align: right;\n",
       "    }\n",
       "</style>\n",
       "<table border=\"1\" class=\"dataframe\">\n",
       "  <thead>\n",
       "    <tr style=\"text-align: right;\">\n",
       "      <th></th>\n",
       "      <th>old_index</th>\n",
       "      <th>sentence</th>\n",
       "      <th>emotion</th>\n",
       "      <th>code</th>\n",
       "    </tr>\n",
       "  </thead>\n",
       "  <tbody>\n",
       "    <tr>\n",
       "      <th>696</th>\n",
       "      <td>11413</td>\n",
       "      <td>repres</td>\n",
       "      <td>3</td>\n",
       "      <td>0.013889</td>\n",
       "    </tr>\n",
       "    <tr>\n",
       "      <th>3567</th>\n",
       "      <td>9686</td>\n",
       "      <td>ladi</td>\n",
       "      <td>2</td>\n",
       "      <td>0.006173</td>\n",
       "    </tr>\n",
       "    <tr>\n",
       "      <th>1264</th>\n",
       "      <td>5068</td>\n",
       "      <td>old</td>\n",
       "      <td>3</td>\n",
       "      <td>0.002315</td>\n",
       "    </tr>\n",
       "    <tr>\n",
       "      <th>4595</th>\n",
       "      <td>7478</td>\n",
       "      <td>season</td>\n",
       "      <td>3</td>\n",
       "      <td>0.010031</td>\n",
       "    </tr>\n",
       "    <tr>\n",
       "      <th>4258</th>\n",
       "      <td>12106</td>\n",
       "      <td>littl</td>\n",
       "      <td>3</td>\n",
       "      <td>0.008488</td>\n",
       "    </tr>\n",
       "    <tr>\n",
       "      <th>3206</th>\n",
       "      <td>6757</td>\n",
       "      <td>know</td>\n",
       "      <td>5</td>\n",
       "      <td>0.016975</td>\n",
       "    </tr>\n",
       "    <tr>\n",
       "      <th>2488</th>\n",
       "      <td>6372</td>\n",
       "      <td>oh</td>\n",
       "      <td>5</td>\n",
       "      <td>0.005401</td>\n",
       "    </tr>\n",
       "    <tr>\n",
       "      <th>4523</th>\n",
       "      <td>5318</td>\n",
       "      <td>tell</td>\n",
       "      <td>1</td>\n",
       "      <td>0.008488</td>\n",
       "    </tr>\n",
       "    <tr>\n",
       "      <th>3647</th>\n",
       "      <td>5652</td>\n",
       "      <td>hand</td>\n",
       "      <td>1</td>\n",
       "      <td>0.002315</td>\n",
       "    </tr>\n",
       "    <tr>\n",
       "      <th>126</th>\n",
       "      <td>3240</td>\n",
       "      <td>fingerprint</td>\n",
       "      <td>1</td>\n",
       "      <td>0.014660</td>\n",
       "    </tr>\n",
       "    <tr>\n",
       "      <th>2336</th>\n",
       "      <td>784</td>\n",
       "      <td>person</td>\n",
       "      <td>3</td>\n",
       "      <td>0.010031</td>\n",
       "    </tr>\n",
       "    <tr>\n",
       "      <th>576</th>\n",
       "      <td>13456</td>\n",
       "      <td>longer</td>\n",
       "      <td>2</td>\n",
       "      <td>0.013117</td>\n",
       "    </tr>\n",
       "    <tr>\n",
       "      <th>4839</th>\n",
       "      <td>9907</td>\n",
       "      <td>knew</td>\n",
       "      <td>7</td>\n",
       "      <td>0.016975</td>\n",
       "    </tr>\n",
       "    <tr>\n",
       "      <th>2356</th>\n",
       "      <td>8721</td>\n",
       "      <td>come</td>\n",
       "      <td>2</td>\n",
       "      <td>0.003086</td>\n",
       "    </tr>\n",
       "    <tr>\n",
       "      <th>1407</th>\n",
       "      <td>7285</td>\n",
       "      <td>back</td>\n",
       "      <td>3</td>\n",
       "      <td>0.007716</td>\n",
       "    </tr>\n",
       "    <tr>\n",
       "      <th>4665</th>\n",
       "      <td>11576</td>\n",
       "      <td>bubbl</td>\n",
       "      <td>7</td>\n",
       "      <td>0.008488</td>\n",
       "    </tr>\n",
       "    <tr>\n",
       "      <th>672</th>\n",
       "      <td>10161</td>\n",
       "      <td>hell</td>\n",
       "      <td>3</td>\n",
       "      <td>0.008488</td>\n",
       "    </tr>\n",
       "    <tr>\n",
       "      <th>4985</th>\n",
       "      <td>98</td>\n",
       "      <td>year</td>\n",
       "      <td>1</td>\n",
       "      <td>0.013117</td>\n",
       "    </tr>\n",
       "    <tr>\n",
       "      <th>4175</th>\n",
       "      <td>136</td>\n",
       "      <td>ground</td>\n",
       "      <td>1</td>\n",
       "      <td>0.002315</td>\n",
       "    </tr>\n",
       "    <tr>\n",
       "      <th>567</th>\n",
       "      <td>11981</td>\n",
       "      <td>came</td>\n",
       "      <td>6</td>\n",
       "      <td>0.003086</td>\n",
       "    </tr>\n",
       "  </tbody>\n",
       "</table>\n",
       "</div>"
      ],
      "text/plain": [
       "      old_index     sentence  emotion      code\n",
       "696       11413       repres        3  0.013889\n",
       "3567       9686         ladi        2  0.006173\n",
       "1264       5068          old        3  0.002315\n",
       "4595       7478       season        3  0.010031\n",
       "4258      12106        littl        3  0.008488\n",
       "3206       6757         know        5  0.016975\n",
       "2488       6372           oh        5  0.005401\n",
       "4523       5318         tell        1  0.008488\n",
       "3647       5652         hand        1  0.002315\n",
       "126        3240  fingerprint        1  0.014660\n",
       "2336        784       person        3  0.010031\n",
       "576       13456       longer        2  0.013117\n",
       "4839       9907         knew        7  0.016975\n",
       "2356       8721         come        2  0.003086\n",
       "1407       7285         back        3  0.007716\n",
       "4665      11576        bubbl        7  0.008488\n",
       "672       10161         hell        3  0.008488\n",
       "4985         98         year        1  0.013117\n",
       "4175        136       ground        1  0.002315\n",
       "567       11981         came        6  0.003086"
      ]
     },
     "execution_count": 235,
     "metadata": {},
     "output_type": "execute_result"
    }
   ],
   "source": [
    "dev_bag.sample(20)"
   ]
  },
  {
   "cell_type": "markdown",
   "id": "08f2cc76",
   "metadata": {},
   "source": [
    "### TFIDF"
   ]
  },
  {
   "cell_type": "code",
   "execution_count": 258,
   "id": "31d2d8b5",
   "metadata": {},
   "outputs": [],
   "source": [
    "from sklearn.feature_extraction.text import TfidfVectorizer\n",
    "\n",
    "def tfidf(df):\n",
    "    corpus = [row for row in df.sentence]\n",
    "    vectorizer = TfidfVectorizer()\n",
    "    X = vectorizer.fit_transform(corpus)\n",
    "\n",
    "    return X"
   ]
  },
  {
   "cell_type": "code",
   "execution_count": null,
   "id": "6a60b8d5",
   "metadata": {},
   "outputs": [],
   "source": []
  },
  {
   "cell_type": "code",
   "execution_count": null,
   "id": "1b0280ab",
   "metadata": {},
   "outputs": [],
   "source": []
  },
  {
   "cell_type": "markdown",
   "id": "31726e72",
   "metadata": {},
   "source": [
    "### Analysis"
   ]
  },
  {
   "cell_type": "code",
   "execution_count": 236,
   "id": "8743b2ed",
   "metadata": {},
   "outputs": [
    {
     "name": "stdout",
     "output_type": "stream",
     "text": [
      "0.1156335073860847\n",
      "% unique training\n",
      "0.3190949873220207\n",
      "% unique developing\n"
     ]
    }
   ],
   "source": [
    "print(len(train_bag.sentence.unique())/len(train_bag))\n",
    "print('% unique training')\n",
    "print(len(dev_bag.sentence.unique())/len(dev_bag))\n",
    "print('% unique developing')"
   ]
  },
  {
   "cell_type": "code",
   "execution_count": 237,
   "id": "3f295628",
   "metadata": {},
   "outputs": [
    {
     "data": {
      "text/plain": [
       "5182"
      ]
     },
     "execution_count": 237,
     "metadata": {},
     "output_type": "execute_result"
    }
   ],
   "source": [
    "len(train_bag.sentence.unique())"
   ]
  },
  {
   "cell_type": "code",
   "execution_count": 247,
   "id": "bce43170",
   "metadata": {},
   "outputs": [
    {
     "data": {
      "text/html": [
       "<div>\n",
       "<style scoped>\n",
       "    .dataframe tbody tr th:only-of-type {\n",
       "        vertical-align: middle;\n",
       "    }\n",
       "\n",
       "    .dataframe tbody tr th {\n",
       "        vertical-align: top;\n",
       "    }\n",
       "\n",
       "    .dataframe thead th {\n",
       "        text-align: right;\n",
       "    }\n",
       "</style>\n",
       "<table border=\"1\" class=\"dataframe\">\n",
       "  <thead>\n",
       "    <tr style=\"text-align: right;\">\n",
       "      <th></th>\n",
       "      <th>old_index</th>\n",
       "      <th>sentence</th>\n",
       "      <th>emotion</th>\n",
       "      <th>code</th>\n",
       "    </tr>\n",
       "  </thead>\n",
       "  <tbody>\n",
       "    <tr>\n",
       "      <th>1852</th>\n",
       "      <td>4224</td>\n",
       "      <td>pictur</td>\n",
       "      <td>1</td>\n",
       "      <td>0.013117</td>\n",
       "    </tr>\n",
       "    <tr>\n",
       "      <th>4024</th>\n",
       "      <td>4036</td>\n",
       "      <td>pictur</td>\n",
       "      <td>6</td>\n",
       "      <td>0.013117</td>\n",
       "    </tr>\n",
       "    <tr>\n",
       "      <th>7290</th>\n",
       "      <td>5146</td>\n",
       "      <td>pictur</td>\n",
       "      <td>2</td>\n",
       "      <td>0.013117</td>\n",
       "    </tr>\n",
       "    <tr>\n",
       "      <th>8994</th>\n",
       "      <td>8602</td>\n",
       "      <td>pictur</td>\n",
       "      <td>1</td>\n",
       "      <td>0.013117</td>\n",
       "    </tr>\n",
       "    <tr>\n",
       "      <th>9910</th>\n",
       "      <td>10286</td>\n",
       "      <td>pictur</td>\n",
       "      <td>5</td>\n",
       "      <td>0.013117</td>\n",
       "    </tr>\n",
       "    <tr>\n",
       "      <th>13130</th>\n",
       "      <td>9438</td>\n",
       "      <td>pictur</td>\n",
       "      <td>2</td>\n",
       "      <td>0.013117</td>\n",
       "    </tr>\n",
       "    <tr>\n",
       "      <th>13447</th>\n",
       "      <td>1414</td>\n",
       "      <td>pictur</td>\n",
       "      <td>1</td>\n",
       "      <td>0.013117</td>\n",
       "    </tr>\n",
       "    <tr>\n",
       "      <th>17111</th>\n",
       "      <td>12924</td>\n",
       "      <td>pictur</td>\n",
       "      <td>2</td>\n",
       "      <td>0.013117</td>\n",
       "    </tr>\n",
       "    <tr>\n",
       "      <th>20135</th>\n",
       "      <td>8228</td>\n",
       "      <td>pictur</td>\n",
       "      <td>1</td>\n",
       "      <td>0.013117</td>\n",
       "    </tr>\n",
       "    <tr>\n",
       "      <th>23390</th>\n",
       "      <td>9357</td>\n",
       "      <td>pictur</td>\n",
       "      <td>5</td>\n",
       "      <td>0.013117</td>\n",
       "    </tr>\n",
       "    <tr>\n",
       "      <th>23547</th>\n",
       "      <td>3512</td>\n",
       "      <td>pictur</td>\n",
       "      <td>1</td>\n",
       "      <td>0.013117</td>\n",
       "    </tr>\n",
       "    <tr>\n",
       "      <th>26469</th>\n",
       "      <td>6784</td>\n",
       "      <td>pictur</td>\n",
       "      <td>1</td>\n",
       "      <td>0.013117</td>\n",
       "    </tr>\n",
       "    <tr>\n",
       "      <th>27491</th>\n",
       "      <td>8516</td>\n",
       "      <td>pictur</td>\n",
       "      <td>7</td>\n",
       "      <td>0.013117</td>\n",
       "    </tr>\n",
       "    <tr>\n",
       "      <th>28740</th>\n",
       "      <td>13537</td>\n",
       "      <td>pictur</td>\n",
       "      <td>1</td>\n",
       "      <td>0.013117</td>\n",
       "    </tr>\n",
       "    <tr>\n",
       "      <th>29674</th>\n",
       "      <td>9179</td>\n",
       "      <td>pictur</td>\n",
       "      <td>2</td>\n",
       "      <td>0.013117</td>\n",
       "    </tr>\n",
       "    <tr>\n",
       "      <th>33250</th>\n",
       "      <td>299</td>\n",
       "      <td>pictur</td>\n",
       "      <td>2</td>\n",
       "      <td>0.013117</td>\n",
       "    </tr>\n",
       "    <tr>\n",
       "      <th>34606</th>\n",
       "      <td>13776</td>\n",
       "      <td>pictur</td>\n",
       "      <td>3</td>\n",
       "      <td>0.013117</td>\n",
       "    </tr>\n",
       "    <tr>\n",
       "      <th>35718</th>\n",
       "      <td>10115</td>\n",
       "      <td>pictur</td>\n",
       "      <td>8</td>\n",
       "      <td>0.013117</td>\n",
       "    </tr>\n",
       "    <tr>\n",
       "      <th>44519</th>\n",
       "      <td>7075</td>\n",
       "      <td>pictur</td>\n",
       "      <td>3</td>\n",
       "      <td>0.013117</td>\n",
       "    </tr>\n",
       "    <tr>\n",
       "      <th>44797</th>\n",
       "      <td>4159</td>\n",
       "      <td>pictur</td>\n",
       "      <td>5</td>\n",
       "      <td>0.013117</td>\n",
       "    </tr>\n",
       "  </tbody>\n",
       "</table>\n",
       "</div>"
      ],
      "text/plain": [
       "       old_index sentence  emotion      code\n",
       "1852        4224   pictur        1  0.013117\n",
       "4024        4036   pictur        6  0.013117\n",
       "7290        5146   pictur        2  0.013117\n",
       "8994        8602   pictur        1  0.013117\n",
       "9910       10286   pictur        5  0.013117\n",
       "13130       9438   pictur        2  0.013117\n",
       "13447       1414   pictur        1  0.013117\n",
       "17111      12924   pictur        2  0.013117\n",
       "20135       8228   pictur        1  0.013117\n",
       "23390       9357   pictur        5  0.013117\n",
       "23547       3512   pictur        1  0.013117\n",
       "26469       6784   pictur        1  0.013117\n",
       "27491       8516   pictur        7  0.013117\n",
       "28740      13537   pictur        1  0.013117\n",
       "29674       9179   pictur        2  0.013117\n",
       "33250        299   pictur        2  0.013117\n",
       "34606      13776   pictur        3  0.013117\n",
       "35718      10115   pictur        8  0.013117\n",
       "44519       7075   pictur        3  0.013117\n",
       "44797       4159   pictur        5  0.013117"
      ]
     },
     "execution_count": 247,
     "metadata": {},
     "output_type": "execute_result"
    }
   ],
   "source": [
    "train_bag.iloc[np.where(train_bag.sentence == 'pictur')]"
   ]
  },
  {
   "cell_type": "code",
   "execution_count": 200,
   "id": "c7aaf473",
   "metadata": {},
   "outputs": [
    {
     "data": {
      "text/plain": [
       "<AxesSubplot:>"
      ]
     },
     "execution_count": 200,
     "metadata": {},
     "output_type": "execute_result"
    },
    {
     "data": {
      "image/png": "[encoded data removed]",
      "text/plain": [
       "<Figure size 432x288 with 1 Axes>"
      ]
     },
     "metadata": {
      "needs_background": "light"
     },
     "output_type": "display_data"
    }
   ],
   "source": [
    "train_bag.emotion.iloc[np.where(train_bag.sentence == 'picture')].hist()"
   ]
  }
 ],
 "metadata": {
  "kernelspec": {
   "display_name": "Python 3 (ipykernel)",
   "language": "python",
   "name": "python3"
  },
  "language_info": {
   "codemirror_mode": {
    "name": "ipython",
    "version": 3
   },
   "file_extension": ".py",
   "mimetype": "text/x-python",
   "name": "python",
   "nbconvert_exporter": "python",
   "pygments_lexer": "ipython3",
   "version": "3.7.1"
  }
 },
 "nbformat": 4,
 "nbformat_minor": 5
}
